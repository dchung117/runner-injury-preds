{
 "metadata": {
  "language_info": {
   "codemirror_mode": {
    "name": "ipython",
    "version": 3
   },
   "file_extension": ".py",
   "mimetype": "text/x-python",
   "name": "python",
   "nbconvert_exporter": "python",
   "pygments_lexer": "ipython3",
   "version": "3.9.5"
  },
  "orig_nbformat": 2,
  "kernelspec": {
   "name": "python395jvsc74a57bd05637294743aae0e025520e0e9d1da7627837a77c00833e7443ec1a12437a0109",
   "display_name": "Python 3.9.5 64-bit ('runner-preds': conda)"
  }
 },
 "nbformat": 4,
 "nbformat_minor": 2,
 "cells": [
  {
   "cell_type": "code",
   "execution_count": 15,
   "metadata": {},
   "outputs": [
    {
     "output_type": "stream",
     "name": "stdout",
     "text": [
      "The autoreload extension is already loaded. To reload it, use:\n  %reload_ext autoreload\n"
     ]
    }
   ],
   "source": [
    "import os\n",
    "import glob\n",
    "import itertools\n",
    "import pickle\n",
    "\n",
    "import numpy as np\n",
    "import pandas as pd\n",
    "pd.set_option('display.max_rows', 500)\n",
    "pd.set_option('display.max_columns', 500)\n",
    "pd.set_option('display.width', 1000)\n",
    "\n",
    "import matplotlib.pyplot as plt\n",
    "%matplotlib inline\n",
    "import seaborn as sns\n",
    "\n",
    "%load_ext autoreload\n",
    "%autoreload 2"
   ]
  },
  {
   "cell_type": "code",
   "execution_count": 2,
   "metadata": {},
   "outputs": [
    {
     "output_type": "execute_result",
     "data": {
      "text/plain": [
       "   nr. sessions  total km  km Z3-4  km Z5-T1-T2  km sprinting  strength training  hours alternative  perceived exertion  perceived trainingSuccess  perceived recovery  nr. sessions.1  total km.1  km Z3-4.1  km Z5-T1-T2.1  km sprinting.1  strength training.1  hours alternative.1  perceived exertion.1  perceived trainingSuccess.1  perceived recovery.1  nr. sessions.2  total km.2  km Z3-4.2  km Z5-T1-T2.2  km sprinting.2  strength training.2  hours alternative.2  perceived exertion.2  perceived trainingSuccess.2  perceived recovery.2  nr. sessions.3  total km.3  km Z3-4.3  km Z5-T1-T2.3  km sprinting.3  strength training.3  hours alternative.3  perceived exertion.3  perceived trainingSuccess.3  perceived recovery.3  nr. sessions.4  total km.4  km Z3-4.4  km Z5-T1-T2.4  km sprinting.4  strength training.4  hours alternative.4  perceived exertion.4  perceived trainingSuccess.4  perceived recovery.4  nr. sessions.5  total km.5  km Z3-4.5  km Z5-T1-T2.5  km sprinting.5  strength training.5  \\\n",
       "0           1.0       5.8      0.0          0.6           1.2                0.0               0.00                0.11                       0.00                0.18             0.0         0.0        0.0            0.0             0.0                  0.0                 0.00                 -0.01                        -0.01                 -0.01             1.0         0.0        0.0            0.0             0.0                  1.0                 0.00                  0.10                         0.00                  0.17             0.0         0.0        0.0            0.0             0.0                  0.0                 0.00                 -0.01                        -0.01                 -0.01             1.0         0.0        0.0            0.0             0.0                  0.0                 1.08                  0.08                         0.00                  0.18             1.0        16.4       10.0            0.0             0.0                  1.0   \n",
       "1           0.0       0.0      0.0          0.0           0.0                0.0               0.00               -0.01                      -0.01               -0.01             1.0         0.0        0.0            0.0             0.0                  1.0                 0.00                  0.10                         0.00                  0.17             0.0         0.0        0.0            0.0             0.0                  0.0                 0.00                 -0.01                        -0.01                 -0.01             1.0         0.0        0.0            0.0             0.0                  0.0                 1.08                  0.08                         0.00                  0.18             1.0        16.4       10.0            0.0             0.0                  1.0                 0.00                  0.11                         0.00                  0.17             1.0         0.0        0.0            0.0             0.0                  0.0   \n",
       "2           1.0       0.0      0.0          0.0           0.0                1.0               0.00                0.10                       0.00                0.17             0.0         0.0        0.0            0.0             0.0                  0.0                 0.00                 -0.01                        -0.01                 -0.01             1.0         0.0        0.0            0.0             0.0                  0.0                 1.08                  0.08                         0.00                  0.18             1.0        16.4       10.0            0.0             0.0                  1.0                 0.00                  0.11                         0.00                  0.17             1.0         0.0        0.0            0.0             0.0                  0.0                 1.00                  0.10                         0.00                  0.15             1.0         5.2        0.0            0.5             1.2                  0.0   \n",
       "3           0.0       0.0      0.0          0.0           0.0                0.0               0.00               -0.01                      -0.01               -0.01             1.0         0.0        0.0            0.0             0.0                  0.0                 1.08                  0.08                         0.00                  0.18             1.0        16.4       10.0            0.0             0.0                  1.0                 0.00                  0.11                         0.00                  0.17             1.0         0.0        0.0            0.0             0.0                  0.0                 1.00                  0.10                         0.00                  0.15             1.0         5.2        0.0            0.5             1.2                  0.0                 0.00                  0.10                         0.00                  0.17             0.0         0.0        0.0            0.0             0.0                  0.0   \n",
       "4           1.0       0.0      0.0          0.0           0.0                0.0               1.08                0.08                       0.00                0.18             1.0        16.4       10.0            0.0             0.0                  1.0                 0.00                  0.11                         0.00                  0.17             1.0         0.0        0.0            0.0             0.0                  0.0                 1.00                  0.10                         0.00                  0.15             1.0         5.2        0.0            0.5             1.2                  0.0                 0.00                  0.10                         0.00                  0.17             0.0         0.0        0.0            0.0             0.0                  0.0                 0.00                 -0.01                        -0.01                 -0.01             1.0         0.0        0.0            0.0             0.0                  1.0   \n",
       "\n",
       "   hours alternative.5  perceived exertion.5  perceived trainingSuccess.5  perceived recovery.5  nr. sessions.6  total km.6  km Z3-4.6  km Z5-T1-T2.6  km sprinting.6  strength training.6  hours alternative.6  perceived exertion.6  perceived trainingSuccess.6  perceived recovery.6  Athlete ID  injury  Date  \n",
       "0                  0.0                  0.11                         0.00                  0.17             1.0         0.0        0.0            0.0             0.0                  0.0                  1.0                  0.10                         0.00                  0.15           0       0     0  \n",
       "1                  1.0                  0.10                         0.00                  0.15             1.0         5.2        0.0            0.5             1.2                  0.0                  0.0                  0.10                         0.00                  0.17           0       0     1  \n",
       "2                  0.0                  0.10                         0.00                  0.17             0.0         0.0        0.0            0.0             0.0                  0.0                  0.0                 -0.01                        -0.01                 -0.01           0       0     2  \n",
       "3                  0.0                 -0.01                        -0.01                 -0.01             1.0         0.0        0.0            0.0             0.0                  1.0                  0.0                  0.10                         0.00                  0.17           0       0     3  \n",
       "4                  0.0                  0.10                         0.00                  0.17             1.0        17.6        7.2            0.0             0.0                  0.0                  0.0                  0.11                         0.00                  0.17           0       0     4  "
      ],
      "text/html": "<div>\n<style scoped>\n    .dataframe tbody tr th:only-of-type {\n        vertical-align: middle;\n    }\n\n    .dataframe tbody tr th {\n        vertical-align: top;\n    }\n\n    .dataframe thead th {\n        text-align: right;\n    }\n</style>\n<table border=\"1\" class=\"dataframe\">\n  <thead>\n    <tr style=\"text-align: right;\">\n      <th></th>\n      <th>nr. sessions</th>\n      <th>total km</th>\n      <th>km Z3-4</th>\n      <th>km Z5-T1-T2</th>\n      <th>km sprinting</th>\n      <th>strength training</th>\n      <th>hours alternative</th>\n      <th>perceived exertion</th>\n      <th>perceived trainingSuccess</th>\n      <th>perceived recovery</th>\n      <th>nr. sessions.1</th>\n      <th>total km.1</th>\n      <th>km Z3-4.1</th>\n      <th>km Z5-T1-T2.1</th>\n      <th>km sprinting.1</th>\n      <th>strength training.1</th>\n      <th>hours alternative.1</th>\n      <th>perceived exertion.1</th>\n      <th>perceived trainingSuccess.1</th>\n      <th>perceived recovery.1</th>\n      <th>nr. sessions.2</th>\n      <th>total km.2</th>\n      <th>km Z3-4.2</th>\n      <th>km Z5-T1-T2.2</th>\n      <th>km sprinting.2</th>\n      <th>strength training.2</th>\n      <th>hours alternative.2</th>\n      <th>perceived exertion.2</th>\n      <th>perceived trainingSuccess.2</th>\n      <th>perceived recovery.2</th>\n      <th>nr. sessions.3</th>\n      <th>total km.3</th>\n      <th>km Z3-4.3</th>\n      <th>km Z5-T1-T2.3</th>\n      <th>km sprinting.3</th>\n      <th>strength training.3</th>\n      <th>hours alternative.3</th>\n      <th>perceived exertion.3</th>\n      <th>perceived trainingSuccess.3</th>\n      <th>perceived recovery.3</th>\n      <th>nr. sessions.4</th>\n      <th>total km.4</th>\n      <th>km Z3-4.4</th>\n      <th>km Z5-T1-T2.4</th>\n      <th>km sprinting.4</th>\n      <th>strength training.4</th>\n      <th>hours alternative.4</th>\n      <th>perceived exertion.4</th>\n      <th>perceived trainingSuccess.4</th>\n      <th>perceived recovery.4</th>\n      <th>nr. sessions.5</th>\n      <th>total km.5</th>\n      <th>km Z3-4.5</th>\n      <th>km Z5-T1-T2.5</th>\n      <th>km sprinting.5</th>\n      <th>strength training.5</th>\n      <th>hours alternative.5</th>\n      <th>perceived exertion.5</th>\n      <th>perceived trainingSuccess.5</th>\n      <th>perceived recovery.5</th>\n      <th>nr. sessions.6</th>\n      <th>total km.6</th>\n      <th>km Z3-4.6</th>\n      <th>km Z5-T1-T2.6</th>\n      <th>km sprinting.6</th>\n      <th>strength training.6</th>\n      <th>hours alternative.6</th>\n      <th>perceived exertion.6</th>\n      <th>perceived trainingSuccess.6</th>\n      <th>perceived recovery.6</th>\n      <th>Athlete ID</th>\n      <th>injury</th>\n      <th>Date</th>\n    </tr>\n  </thead>\n  <tbody>\n    <tr>\n      <th>0</th>\n      <td>1.0</td>\n      <td>5.8</td>\n      <td>0.0</td>\n      <td>0.6</td>\n      <td>1.2</td>\n      <td>0.0</td>\n      <td>0.00</td>\n      <td>0.11</td>\n      <td>0.00</td>\n      <td>0.18</td>\n      <td>0.0</td>\n      <td>0.0</td>\n      <td>0.0</td>\n      <td>0.0</td>\n      <td>0.0</td>\n      <td>0.0</td>\n      <td>0.00</td>\n      <td>-0.01</td>\n      <td>-0.01</td>\n      <td>-0.01</td>\n      <td>1.0</td>\n      <td>0.0</td>\n      <td>0.0</td>\n      <td>0.0</td>\n      <td>0.0</td>\n      <td>1.0</td>\n      <td>0.00</td>\n      <td>0.10</td>\n      <td>0.00</td>\n      <td>0.17</td>\n      <td>0.0</td>\n      <td>0.0</td>\n      <td>0.0</td>\n      <td>0.0</td>\n      <td>0.0</td>\n      <td>0.0</td>\n      <td>0.00</td>\n      <td>-0.01</td>\n      <td>-0.01</td>\n      <td>-0.01</td>\n      <td>1.0</td>\n      <td>0.0</td>\n      <td>0.0</td>\n      <td>0.0</td>\n      <td>0.0</td>\n      <td>0.0</td>\n      <td>1.08</td>\n      <td>0.08</td>\n      <td>0.00</td>\n      <td>0.18</td>\n      <td>1.0</td>\n      <td>16.4</td>\n      <td>10.0</td>\n      <td>0.0</td>\n      <td>0.0</td>\n      <td>1.0</td>\n      <td>0.0</td>\n      <td>0.11</td>\n      <td>0.00</td>\n      <td>0.17</td>\n      <td>1.0</td>\n      <td>0.0</td>\n      <td>0.0</td>\n      <td>0.0</td>\n      <td>0.0</td>\n      <td>0.0</td>\n      <td>1.0</td>\n      <td>0.10</td>\n      <td>0.00</td>\n      <td>0.15</td>\n      <td>0</td>\n      <td>0</td>\n      <td>0</td>\n    </tr>\n    <tr>\n      <th>1</th>\n      <td>0.0</td>\n      <td>0.0</td>\n      <td>0.0</td>\n      <td>0.0</td>\n      <td>0.0</td>\n      <td>0.0</td>\n      <td>0.00</td>\n      <td>-0.01</td>\n      <td>-0.01</td>\n      <td>-0.01</td>\n      <td>1.0</td>\n      <td>0.0</td>\n      <td>0.0</td>\n      <td>0.0</td>\n      <td>0.0</td>\n      <td>1.0</td>\n      <td>0.00</td>\n      <td>0.10</td>\n      <td>0.00</td>\n      <td>0.17</td>\n      <td>0.0</td>\n      <td>0.0</td>\n      <td>0.0</td>\n      <td>0.0</td>\n      <td>0.0</td>\n      <td>0.0</td>\n      <td>0.00</td>\n      <td>-0.01</td>\n      <td>-0.01</td>\n      <td>-0.01</td>\n      <td>1.0</td>\n      <td>0.0</td>\n      <td>0.0</td>\n      <td>0.0</td>\n      <td>0.0</td>\n      <td>0.0</td>\n      <td>1.08</td>\n      <td>0.08</td>\n      <td>0.00</td>\n      <td>0.18</td>\n      <td>1.0</td>\n      <td>16.4</td>\n      <td>10.0</td>\n      <td>0.0</td>\n      <td>0.0</td>\n      <td>1.0</td>\n      <td>0.00</td>\n      <td>0.11</td>\n      <td>0.00</td>\n      <td>0.17</td>\n      <td>1.0</td>\n      <td>0.0</td>\n      <td>0.0</td>\n      <td>0.0</td>\n      <td>0.0</td>\n      <td>0.0</td>\n      <td>1.0</td>\n      <td>0.10</td>\n      <td>0.00</td>\n      <td>0.15</td>\n      <td>1.0</td>\n      <td>5.2</td>\n      <td>0.0</td>\n      <td>0.5</td>\n      <td>1.2</td>\n      <td>0.0</td>\n      <td>0.0</td>\n      <td>0.10</td>\n      <td>0.00</td>\n      <td>0.17</td>\n      <td>0</td>\n      <td>0</td>\n      <td>1</td>\n    </tr>\n    <tr>\n      <th>2</th>\n      <td>1.0</td>\n      <td>0.0</td>\n      <td>0.0</td>\n      <td>0.0</td>\n      <td>0.0</td>\n      <td>1.0</td>\n      <td>0.00</td>\n      <td>0.10</td>\n      <td>0.00</td>\n      <td>0.17</td>\n      <td>0.0</td>\n      <td>0.0</td>\n      <td>0.0</td>\n      <td>0.0</td>\n      <td>0.0</td>\n      <td>0.0</td>\n      <td>0.00</td>\n      <td>-0.01</td>\n      <td>-0.01</td>\n      <td>-0.01</td>\n      <td>1.0</td>\n      <td>0.0</td>\n      <td>0.0</td>\n      <td>0.0</td>\n      <td>0.0</td>\n      <td>0.0</td>\n      <td>1.08</td>\n      <td>0.08</td>\n      <td>0.00</td>\n      <td>0.18</td>\n      <td>1.0</td>\n      <td>16.4</td>\n      <td>10.0</td>\n      <td>0.0</td>\n      <td>0.0</td>\n      <td>1.0</td>\n      <td>0.00</td>\n      <td>0.11</td>\n      <td>0.00</td>\n      <td>0.17</td>\n      <td>1.0</td>\n      <td>0.0</td>\n      <td>0.0</td>\n      <td>0.0</td>\n      <td>0.0</td>\n      <td>0.0</td>\n      <td>1.00</td>\n      <td>0.10</td>\n      <td>0.00</td>\n      <td>0.15</td>\n      <td>1.0</td>\n      <td>5.2</td>\n      <td>0.0</td>\n      <td>0.5</td>\n      <td>1.2</td>\n      <td>0.0</td>\n      <td>0.0</td>\n      <td>0.10</td>\n      <td>0.00</td>\n      <td>0.17</td>\n      <td>0.0</td>\n      <td>0.0</td>\n      <td>0.0</td>\n      <td>0.0</td>\n      <td>0.0</td>\n      <td>0.0</td>\n      <td>0.0</td>\n      <td>-0.01</td>\n      <td>-0.01</td>\n      <td>-0.01</td>\n      <td>0</td>\n      <td>0</td>\n      <td>2</td>\n    </tr>\n    <tr>\n      <th>3</th>\n      <td>0.0</td>\n      <td>0.0</td>\n      <td>0.0</td>\n      <td>0.0</td>\n      <td>0.0</td>\n      <td>0.0</td>\n      <td>0.00</td>\n      <td>-0.01</td>\n      <td>-0.01</td>\n      <td>-0.01</td>\n      <td>1.0</td>\n      <td>0.0</td>\n      <td>0.0</td>\n      <td>0.0</td>\n      <td>0.0</td>\n      <td>0.0</td>\n      <td>1.08</td>\n      <td>0.08</td>\n      <td>0.00</td>\n      <td>0.18</td>\n      <td>1.0</td>\n      <td>16.4</td>\n      <td>10.0</td>\n      <td>0.0</td>\n      <td>0.0</td>\n      <td>1.0</td>\n      <td>0.00</td>\n      <td>0.11</td>\n      <td>0.00</td>\n      <td>0.17</td>\n      <td>1.0</td>\n      <td>0.0</td>\n      <td>0.0</td>\n      <td>0.0</td>\n      <td>0.0</td>\n      <td>0.0</td>\n      <td>1.00</td>\n      <td>0.10</td>\n      <td>0.00</td>\n      <td>0.15</td>\n      <td>1.0</td>\n      <td>5.2</td>\n      <td>0.0</td>\n      <td>0.5</td>\n      <td>1.2</td>\n      <td>0.0</td>\n      <td>0.00</td>\n      <td>0.10</td>\n      <td>0.00</td>\n      <td>0.17</td>\n      <td>0.0</td>\n      <td>0.0</td>\n      <td>0.0</td>\n      <td>0.0</td>\n      <td>0.0</td>\n      <td>0.0</td>\n      <td>0.0</td>\n      <td>-0.01</td>\n      <td>-0.01</td>\n      <td>-0.01</td>\n      <td>1.0</td>\n      <td>0.0</td>\n      <td>0.0</td>\n      <td>0.0</td>\n      <td>0.0</td>\n      <td>1.0</td>\n      <td>0.0</td>\n      <td>0.10</td>\n      <td>0.00</td>\n      <td>0.17</td>\n      <td>0</td>\n      <td>0</td>\n      <td>3</td>\n    </tr>\n    <tr>\n      <th>4</th>\n      <td>1.0</td>\n      <td>0.0</td>\n      <td>0.0</td>\n      <td>0.0</td>\n      <td>0.0</td>\n      <td>0.0</td>\n      <td>1.08</td>\n      <td>0.08</td>\n      <td>0.00</td>\n      <td>0.18</td>\n      <td>1.0</td>\n      <td>16.4</td>\n      <td>10.0</td>\n      <td>0.0</td>\n      <td>0.0</td>\n      <td>1.0</td>\n      <td>0.00</td>\n      <td>0.11</td>\n      <td>0.00</td>\n      <td>0.17</td>\n      <td>1.0</td>\n      <td>0.0</td>\n      <td>0.0</td>\n      <td>0.0</td>\n      <td>0.0</td>\n      <td>0.0</td>\n      <td>1.00</td>\n      <td>0.10</td>\n      <td>0.00</td>\n      <td>0.15</td>\n      <td>1.0</td>\n      <td>5.2</td>\n      <td>0.0</td>\n      <td>0.5</td>\n      <td>1.2</td>\n      <td>0.0</td>\n      <td>0.00</td>\n      <td>0.10</td>\n      <td>0.00</td>\n      <td>0.17</td>\n      <td>0.0</td>\n      <td>0.0</td>\n      <td>0.0</td>\n      <td>0.0</td>\n      <td>0.0</td>\n      <td>0.0</td>\n      <td>0.00</td>\n      <td>-0.01</td>\n      <td>-0.01</td>\n      <td>-0.01</td>\n      <td>1.0</td>\n      <td>0.0</td>\n      <td>0.0</td>\n      <td>0.0</td>\n      <td>0.0</td>\n      <td>1.0</td>\n      <td>0.0</td>\n      <td>0.10</td>\n      <td>0.00</td>\n      <td>0.17</td>\n      <td>1.0</td>\n      <td>17.6</td>\n      <td>7.2</td>\n      <td>0.0</td>\n      <td>0.0</td>\n      <td>0.0</td>\n      <td>0.0</td>\n      <td>0.11</td>\n      <td>0.00</td>\n      <td>0.17</td>\n      <td>0</td>\n      <td>0</td>\n      <td>4</td>\n    </tr>\n  </tbody>\n</table>\n</div>"
     },
     "metadata": {},
     "execution_count": 2
    }
   ],
   "source": [
    "# Read in daily data\n",
    "data_path = os.path.join('.', 'data')\n",
    "daily_data_path = os.path.join(data_path, 'day_approach_maskedID_timeseries.csv')\n",
    "weekly_data_path = os.path.join(data_path, 'week_approach_maskedID_timeseries.csv')\n",
    "\n",
    "daily_df = pd.read_csv(daily_data_path)\n",
    "daily_df.head()"
   ]
  },
  {
   "cell_type": "code",
   "execution_count": 48,
   "metadata": {},
   "outputs": [],
   "source": [
    "# Create model trainer class\n",
    "from utils import Trainer\n",
    "\n",
    "test_split=0.2\n",
    "cv=5\n",
    "scoring='recall'\n",
    "\n",
    "ignore_cols = ['Athlete ID']\n",
    "model_trainer = Trainer(daily_df, 'injury', ignore_cols=ignore_cols, test_split=test_split)"
   ]
  },
  {
   "source": [
    "## Logistic Regression"
   ],
   "cell_type": "markdown",
   "metadata": {}
  },
  {
   "cell_type": "code",
   "execution_count": 49,
   "metadata": {},
   "outputs": [
    {
     "output_type": "stream",
     "name": "stdout",
     "text": [
      "Model type:  log_reg\n",
      "Scaling:  standard\n",
      "Pipeline(steps=[('scaler', StandardScaler()), ('model', LogisticRegression())])\n",
      "Model type:  log_reg\n",
      "Scaling:  standard\n",
      "Average test recall score:  0.0\n"
     ]
    }
   ],
   "source": [
    "model_trainer.add_model('standard', 'log_reg')\n",
    "print(model_trainer.models[('log_reg', 'standard')])\n",
    "\n",
    "model_trainer.cross_validate('standard', 'log_reg', cv=cv, scoring=scoring, return_train_score=True, return_estimator=True)\n",
    "print('Average test recall score: ', model_trainer.scores[('log_reg', 'standard')]['test_score'].mean())"
   ]
  },
  {
   "source": [
    "## Complement Naive-Bayes"
   ],
   "cell_type": "markdown",
   "metadata": {}
  },
  {
   "cell_type": "code",
   "execution_count": 55,
   "metadata": {},
   "outputs": [
    {
     "output_type": "stream",
     "name": "stdout",
     "text": [
      "Model type:  comp_nb\n",
      "Scaling:  min_max\n",
      "Pipeline(steps=[('scaler', MinMaxScaler()), ('model', ComplementNB())])\n",
      "Model type:  comp_nb\n",
      "Scaling:  min_max\n",
      "Average test recall score:  0.6079158087394189\n"
     ]
    }
   ],
   "source": [
    "model_trainer.add_model('min_max', 'comp_nb')\n",
    "print(model_trainer.models[('comp_nb', 'min_max')])\n",
    "\n",
    "model_trainer.cross_validate('min_max', 'comp_nb', cv=cv, scoring=scoring, return_train_score=True, return_estimator=True)\n",
    "print('Average test recall score: ', model_trainer.scores[('comp_nb', 'min_max')]['test_score'].mean())"
   ]
  },
  {
   "source": [
    "## K-Nearest Neighbors"
   ],
   "cell_type": "markdown",
   "metadata": {}
  },
  {
   "source": [
    "## Feature selection"
   ],
   "cell_type": "markdown",
   "metadata": {}
  },
  {
   "cell_type": "code",
   "execution_count": 158,
   "metadata": {},
   "outputs": [],
   "source": [
    "# TODO: low variance features, correlated features, univariate feature selection, pca -> https://towardsdatascience.com/feature-selection-and-dimensionality-reduction-f488d1a035de"
   ]
  }
 ]
}